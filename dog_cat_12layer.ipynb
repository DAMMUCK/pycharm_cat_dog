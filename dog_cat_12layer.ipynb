{
 "cells": [
  {
   "cell_type": "code",
   "execution_count": 7,
   "metadata": {},
   "outputs": [
    {
     "name": "stdout",
     "output_type": "stream",
     "text": [
      "Found 7205 images belonging to 2 classes.\n",
      "Found 800 images belonging to 2 classes.\n"
     ]
    }
   ],
   "source": [
    "import os\n",
    "from keras.preprocessing.image import ImageDataGenerator\n",
    "\n",
    "rootPath = \"./datasets/cat-and-dog\"\n",
    "\n",
    "imageGenerator = ImageDataGenerator(\n",
    "    rescale=1./255,\n",
    "    rotation_range=20,\n",
    "    width_shift_range=0.1,\n",
    "    height_shift_range=0.1,\n",
    "    brightness_range=[.2, .2],\n",
    "    horizontal_flip=True,\n",
    "    validation_split=.1\n",
    ")\n",
    "\n",
    "trainGen = imageGenerator.flow_from_directory(\n",
    "    os.path.join(rootPath, 'training_set'),\n",
    "    target_size=(64, 64),\n",
    "    subset='training'\n",
    ")\n",
    "\n",
    "validationGen = imageGenerator.flow_from_directory(\n",
    "    #os.path.join(rootPath, 'test_set'),\n",
    "    os.path.join(rootPath, 'training_set'),\n",
    "    target_size=(64, 64),\n",
    "    subset='validation'\n",
    ")\n"
   ]
  },
  {
   "cell_type": "code",
   "execution_count": 8,
   "metadata": {
    "scrolled": true
   },
   "outputs": [
    {
     "name": "stdout",
     "output_type": "stream",
     "text": [
      "_________________________________________________________________\n",
      "Layer (type)                 Output Shape              Param #   \n",
      "=================================================================\n",
      "conv2d_9 (Conv2D)            (None, 64, 64, 32)        896       \n",
      "_________________________________________________________________\n",
      "max_pooling2d_7 (MaxPooling2 (None, 32, 32, 32)        0         \n",
      "_________________________________________________________________\n",
      "dropout_9 (Dropout)          (None, 32, 32, 32)        0         \n",
      "_________________________________________________________________\n",
      "conv2d_10 (Conv2D)           (None, 32, 32, 32)        9248      \n",
      "_________________________________________________________________\n",
      "max_pooling2d_8 (MaxPooling2 (None, 16, 16, 32)        0         \n",
      "_________________________________________________________________\n",
      "dropout_10 (Dropout)         (None, 16, 16, 32)        0         \n",
      "_________________________________________________________________\n",
      "conv2d_11 (Conv2D)           (None, 16, 16, 64)        18496     \n",
      "_________________________________________________________________\n",
      "dropout_11 (Dropout)         (None, 16, 16, 64)        0         \n",
      "_________________________________________________________________\n",
      "conv2d_12 (Conv2D)           (None, 16, 16, 128)       73856     \n",
      "_________________________________________________________________\n",
      "dropout_12 (Dropout)         (None, 16, 16, 128)       0         \n",
      "_________________________________________________________________\n",
      "flatten_3 (Flatten)          (None, 32768)             0         \n",
      "_________________________________________________________________\n",
      "dense_5 (Dense)              (None, 256)               8388864   \n",
      "_________________________________________________________________\n",
      "dense_6 (Dense)              (None, 2)                 514       \n",
      "=================================================================\n",
      "Total params: 8,491,874\n",
      "Trainable params: 8,491,874\n",
      "Non-trainable params: 0\n",
      "_________________________________________________________________\n"
     ]
    }
   ],
   "source": [
    "#모델생성\n",
    "from keras.models import Sequential\n",
    "from keras import layers\n",
    "\n",
    "model = Sequential()\n",
    "\n",
    "model.add(layers.InputLayer(input_shape=(64, 64, 3)))   #이미지 크기 64x64 , 색상을 갖고있기때문에 3(red,green blue)\n",
    "\n",
    "model.add(layers.Conv2D(32, (3, 3),padding='same', activation='relu'))\n",
    "model.add(layers.MaxPooling2D((2, 2)))\n",
    "model.add(layers.Dropout(rate=0.3))\n",
    "model.add(layers.Conv2D(32, (3, 3),padding='same', activation='relu'))\n",
    "model.add(layers.MaxPooling2D((2, 2)))\n",
    "model.add(layers.Dropout(rate=0.3))\n",
    "model.add(layers.Conv2D(64, (3, 3),padding='same', activation='relu'))\n",
    "model.add(layers.Dropout(rate=0.3))\n",
    "model.add(layers.Conv2D(128, (3, 3),padding='same', activation='relu'))\n",
    "model.add(layers.Dropout(rate=0.3))\n",
    "\n",
    "\n",
    "model.add(layers.Flatten())\n",
    "model.add(layers.Dense(256, activation='relu'))\n",
    "model.add(layers.Dense(2, activation='sigmoid'))\n",
    "\n",
    "model.summary()\n"
   ]
  },
  {
   "cell_type": "code",
   "execution_count": 10,
   "metadata": {},
   "outputs": [
    {
     "name": "stdout",
     "output_type": "stream",
     "text": [
      "Epoch 1/20\n",
      "361/360 [==============================] - 75s 209ms/step - loss: 0.6932 - acc: 0.4936 - val_loss: 0.6932 - val_acc: 0.4998\n",
      "Epoch 00001: val_loss improved from inf to 0.69316, saving model to ./log/dog_cat16_40.model\n",
      "Epoch 2/20\n",
      "361/360 [==============================] - 73s 202ms/step - loss: 0.6932 - acc: 0.5000 - val_loss: 0.6931 - val_acc: 0.5003\n",
      "Epoch 00002: val_loss improved from 0.69316 to 0.69315, saving model to ./log/dog_cat16_40.model\n",
      "Epoch 3/20\n",
      "361/360 [==============================] - 75s 207ms/step - loss: 0.6932 - acc: 0.4978 - val_loss: 0.6931 - val_acc: 0.4999\n",
      "Epoch 00003: val_loss improved from 0.69315 to 0.69315, saving model to ./log/dog_cat16_40.model\n",
      "Epoch 4/20\n",
      "361/360 [==============================] - 65s 180ms/step - loss: 0.6932 - acc: 0.4950 - val_loss: 0.6932 - val_acc: 0.4996\n",
      "Epoch 00004: val_loss did not improve\n",
      "Epoch 5/20\n",
      "361/360 [==============================] - 64s 177ms/step - loss: 0.6932 - acc: 0.4978 - val_loss: 0.6931 - val_acc: 0.5011\n",
      "Epoch 00005: val_loss did not improve\n",
      "Epoch 6/20\n",
      "361/360 [==============================] - 64s 178ms/step - loss: 0.6932 - acc: 0.5011 - val_loss: 0.6932 - val_acc: 0.5009\n",
      "Epoch 00006: val_loss did not improve\n",
      "Epoch 7/20\n",
      "361/360 [==============================] - 64s 177ms/step - loss: 0.6932 - acc: 0.4954 - val_loss: 0.6932 - val_acc: 0.5001\n",
      "Epoch 00007: val_loss did not improve\n",
      "Epoch 8/20\n",
      "361/360 [==============================] - 64s 176ms/step - loss: 0.6932 - acc: 0.4966 - val_loss: 0.6932 - val_acc: 0.5006\n",
      "Epoch 00008: val_loss did not improve\n",
      "Epoch 9/20\n",
      "361/360 [==============================] - 63s 175ms/step - loss: 0.6932 - acc: 0.4955 - val_loss: 0.6931 - val_acc: 0.4989\n",
      "Epoch 00009: val_loss improved from 0.69315 to 0.69315, saving model to ./log/dog_cat16_40.model\n",
      "Epoch 10/20\n",
      "361/360 [==============================] - 64s 178ms/step - loss: 0.6932 - acc: 0.4927 - val_loss: 0.6931 - val_acc: 0.5007\n",
      "Epoch 00010: val_loss improved from 0.69315 to 0.69315, saving model to ./log/dog_cat16_40.model\n",
      "Epoch 11/20\n",
      "361/360 [==============================] - 64s 178ms/step - loss: 0.6932 - acc: 0.4957 - val_loss: 0.6931 - val_acc: 0.4993\n",
      "Epoch 00011: val_loss did not improve\n",
      "Epoch 12/20\n",
      "361/360 [==============================] - 64s 178ms/step - loss: 0.6932 - acc: 0.4967 - val_loss: 0.6931 - val_acc: 0.5010\n",
      "Epoch 00012: val_loss improved from 0.69315 to 0.69315, saving model to ./log/dog_cat16_40.model\n",
      "Epoch 13/20\n",
      "361/360 [==============================] - 63s 175ms/step - loss: 0.6932 - acc: 0.4989 - val_loss: 0.6932 - val_acc: 0.4994\n",
      "Epoch 00013: val_loss did not improve\n",
      "Epoch 14/20\n",
      "361/360 [==============================] - 64s 177ms/step - loss: 0.6932 - acc: 0.4994 - val_loss: 0.6931 - val_acc: 0.5010\n",
      "Epoch 00014: val_loss did not improve\n",
      "Epoch 15/20\n",
      "361/360 [==============================] - 64s 176ms/step - loss: 0.6932 - acc: 0.4845 - val_loss: 0.6931 - val_acc: 0.4991\n",
      "Epoch 00015: val_loss did not improve\n",
      "Epoch 16/20\n",
      "361/360 [==============================] - 64s 177ms/step - loss: 0.6932 - acc: 0.4921 - val_loss: 0.6932 - val_acc: 0.4996\n",
      "Epoch 00016: val_loss did not improve\n",
      "Epoch 17/20\n",
      "361/360 [==============================] - 63s 176ms/step - loss: 0.6932 - acc: 0.4921 - val_loss: 0.6931 - val_acc: 0.5010\n",
      "Epoch 00017: val_loss did not improve\n",
      "Epoch 18/20\n",
      "361/360 [==============================] - 63s 175ms/step - loss: 0.6932 - acc: 0.4925 - val_loss: 0.6932 - val_acc: 0.5003\n",
      "Epoch 00018: val_loss did not improve\n",
      "Epoch 19/20\n",
      "361/360 [==============================] - 64s 178ms/step - loss: 0.6932 - acc: 0.5001 - val_loss: 0.6932 - val_acc: 0.5004\n",
      "Epoch 00019: val_loss did not improve\n",
      "Epoch 20/20\n",
      "361/360 [==============================] - 64s 176ms/step - loss: 0.6932 - acc: 0.5000 - val_loss: 0.6931 - val_acc: 0.5006\n",
      "Epoch 00020: val_loss did not improve\n"
     ]
    }
   ],
   "source": [
    "\n",
    "model.compile(\n",
    "    optimizer='adam',\n",
    "    loss='binary_crossentropy',\n",
    "    metrics=['acc'],\n",
    ")\n",
    "#체크포인트 콜백 사용\n",
    "import tensorflow as tf\n",
    "from keras.callbacks import  EarlyStopping\n",
    "\n",
    "model_dir = './log'\n",
    "if not os.path.exists(model_dir):\n",
    "    os.mkdir(model_dir)\n",
    "model_path = model_dir + \"/dog_cat16_40.model\"\n",
    "\n",
    "checkpoint = tf.keras.callbacks.ModelCheckpoint(filepath=model_path, monitor='val_loss', verbose=1, save_best_only=True, save_weights_only=True)\n",
    "early_stopping = EarlyStopping(monitor='val_loss', patience=10)\n",
    "\n",
    "\n",
    "history=model.fit_generator(\n",
    "    trainGen,\n",
    "    epochs=20,\n",
    "    steps_per_epoch=trainGen.samples/20,\n",
    "    validation_data=validationGen,\n",
    "    validation_steps=trainGen.samples/20,\n",
    "    callbacks=[checkpoint,early_stopping]\n",
    ")\n",
    "\n",
    "\n",
    "model.save_weights('dog_cat_16layer_40.h5')"
   ]
  },
  {
   "cell_type": "code",
   "execution_count": 11,
   "metadata": {},
   "outputs": [],
   "source": [
    "import matplotlib.pyplot as plt\n",
    "\n",
    "def show_graph(history_dict):\n",
    "    accuracy = history_dict['acc']\n",
    "    val_accuracy = history_dict['val_acc']\n",
    "    loss = history_dict['loss']\n",
    "    val_loss = history_dict['val_loss']\n",
    "\n",
    "    epochs = range(1, len(loss) + 1)\n",
    "    \n",
    "    plt.figure(figsize=(16, 1))\n",
    "    \n",
    "    plt.subplot(121)\n",
    "    plt.subplots_adjust(top=2)\n",
    "    plt.plot(epochs, accuracy, 'yo', label='Training accuracy')\n",
    "    plt.plot(epochs, val_accuracy, 'b', label='Validation accuracy')\n",
    "    plt.title('Trainging and validation accuracy and loss')\n",
    "    plt.xlabel('Epochs')\n",
    "    plt.ylabel('Accuracy and Loss')\n",
    "\n",
    "    plt.legend(loc='upper center', bbox_to_anchor=(0.5, -0.1),\n",
    "              fancybox=True, shadow=True, ncol=5)\n",
    "#     plt.legend(bbox_to_anchor=(1, -0.1))\n",
    "\n",
    "    plt.subplot(122)\n",
    "    plt.plot(epochs, loss, 'yo', label='Training loss')\n",
    "    plt.plot(epochs, val_loss, 'b', label='Validation loss')\n",
    "    plt.title('Training and validation loss')\n",
    "    plt.xlabel('Epochs')\n",
    "    plt.ylabel('Loss')\n",
    "    plt.legend(loc='upper center', bbox_to_anchor=(0.5, -0.1),\n",
    "          fancybox=True, shadow=True, ncol=5)\n",
    "#     plt.legend(bbox_to_anchor=(1, 0))\n",
    "\n",
    "    plt.show()"
   ]
  },
  {
   "cell_type": "code",
   "execution_count": 12,
   "metadata": {},
   "outputs": [
    {
     "data": {
      "image/png": "[encoded data removed]",
      "text/plain": [
       "<Figure size 1152x72 with 2 Axes>"
      ]
     },
     "metadata": {
      "needs_background": "light"
     },
     "output_type": "display_data"
    },
    {
     "name": "stdout",
     "output_type": "stream",
     "text": [
      "Found 2023 images belonging to 2 classes.\n"
     ]
    },
    {
     "data": {
      "text/plain": [
       "[0.6931522592305548, 0.5002471577160675]"
      ]
     },
     "execution_count": 12,
     "metadata": {},
     "output_type": "execute_result"
    }
   ],
   "source": [
    "model.save_weights('dog_cat_16layer_40.h5')\n",
    "\n",
    "show_graph(history.history)\n",
    "\n",
    "\n",
    "testGenerator = ImageDataGenerator(\n",
    "    rescale=1./255\n",
    ")\n",
    "\n",
    "testGen = imageGenerator.flow_from_directory(\n",
    "    os.path.join(rootPath, 'test_set'),\n",
    "    target_size=(64, 64),\n",
    ")\n",
    "\n",
    "model.evaluate_generator(testGen)"
   ]
  },
  {
   "cell_type": "code",
   "execution_count": 13,
   "metadata": {},
   "outputs": [
    {
     "name": "stdout",
     "output_type": "stream",
     "text": [
      "예측: 개\n",
      "정답: 고양이\n"
     ]
    },
    {
     "data": {
      "image/png": "[encoded data removed]",
      "text/plain": [
       "<Figure size 432x288 with 1 Axes>"
      ]
     },
     "metadata": {
      "needs_background": "light"
     },
     "output_type": "display_data"
    }
   ],
   "source": [
    "from keras.preprocessing.image import array_to_img\n",
    "import numpy as np\n",
    "\n",
    "cls_index = ['고양이', '개']\n",
    "\n",
    "imgs = testGen.next()\n",
    "arr = imgs[0][0]\n",
    "img = array_to_img(arr).resize((128, 128))\n",
    "plt.imshow(img)\n",
    "result = model.predict_classes(arr.reshape(1, 64, 64, 3))\n",
    "print('예측: {}'.format(cls_index[result[0]]))\n",
    "print('정답: {}'.format(cls_index[np.argmax(imgs[1][0])]))\n"
   ]
  },
  {
   "cell_type": "code",
   "execution_count": null,
   "metadata": {},
   "outputs": [],
   "source": []
  }
 ],
 "metadata": {
  "kernelspec": {
   "display_name": "Python 3",
   "language": "python",
   "name": "python3"
  },
  "language_info": {
   "codemirror_mode": {
    "name": "ipython",
    "version": 3
   },
   "file_extension": ".py",
   "mimetype": "text/x-python",
   "name": "python",
   "nbconvert_exporter": "python",
   "pygments_lexer": "ipython3",
   "version": "3.6.6"
  }
 },
 "nbformat": 4,
 "nbformat_minor": 2
}
